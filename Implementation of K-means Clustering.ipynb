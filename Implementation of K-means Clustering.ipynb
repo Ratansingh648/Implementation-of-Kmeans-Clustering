{
 "cells": [
  {
   "cell_type": "markdown",
   "metadata": {},
   "source": [
    "# Implementation of K-means / K-median Clustering\n",
    "#### 25th June, 2018  \n",
    "#### Ratan Madan Singh\n",
    "\n",
    "It is an unsupervised learning algorithm which works on pricinple of iterative computation of cluster centroids by calculating  mean/median of points. This method is simple and effective for the finding the groups from unlabeled data.\n",
    "\n",
    "K-means / K-median clustering works on following simple steps:\n",
    "\n",
    "- Select the number of clutsers desired\n",
    "- Choose initial Centroids randomly. While choosing centroids, try to keep them as far as possible\n",
    "- Assign each data points to selected centroids. Compute mean/median of each centroid cluster data points and reassign the mean/median value as new centroid.\n",
    "- Repeat above procedure till convergence is reached or maximum iteration limit is exhausted."
   ]
  },
  {
   "cell_type": "code",
   "execution_count": 4,
   "metadata": {
    "collapsed": true
   },
   "outputs": [],
   "source": [
    "import pandas as pd\n",
    "import numpy as np\n",
    "import random\n",
    "\n",
    "def initCentroids(X,K):\n",
    "    n,m = X.shape\n",
    "    max_list = [max(X.iloc[x,:]) for x in range(0,X.shape[0])]\n",
    "    min_list = [min(X.iloc[x,:]) for x in range(0,X.shape[0])]\n",
    "    centroids = np.zeros((n,K)) \n",
    "    centroids = pd.DataFrame(centroids)\n",
    "    for i in range(0,K):\n",
    "        centroids.iloc[:,i] = np.array([random.uniform(min_list[x],max_list[x]) for x in range(0,len(max_list))]) \n",
    "    return centroids\n",
    "\n",
    "def computeNearestCluster(X,centroids):\n",
    "    m = X.shape[1]              # number of examples\n",
    "    K = centroids.shape[1]      # number of clusters\n",
    "    clusters = np.zeros((1,m))\n",
    "    \n",
    "    for i in range(0,m):\n",
    "        min_dist = 100000       # A very large number\n",
    "        for j in range(0,K):\n",
    "            dist = np.squeeze(np.sqrt(np.sum(np.square(np.array(X.iloc[:,i])-np.array(centroids.iloc[:,j])))))\n",
    "            #print(dist)\n",
    "            if dist < min_dist:\n",
    "                min_dist = dist\n",
    "                clusters[0,i] = j\n",
    "    return clusters\n",
    "\n",
    "def updateCentroid(X,clusters,K,method = 'mean'):\n",
    "    centroids = np.zeros((X.shape[0],K)) \n",
    "    centroids = pd.DataFrame(centroids)\n",
    "    for i in range(0,K):\n",
    "        index = map(int,np.squeeze(np.where(clusters == i)[1]))\n",
    "        temp = X.iloc[:,index]\n",
    "        if method == 'median':\n",
    "            tempCentroid = np.median(temp,axis=1)\n",
    "        elif method == 'mean':\n",
    "            tempCentroid = np.mean(temp,axis=1)\n",
    "        centroids.iloc[:,i] = np.array(tempCentroid)\n",
    "    return centroids"
   ]
  },
  {
   "cell_type": "markdown",
   "metadata": {},
   "source": [
    "Now let's try our code on famous dataset Iris. Here we are using .csv file stored on my local machine. Also before applying clustering methodology, we have dropped the **Species** column from the dataset which was actual classification of the data. We are displaying only small part of estimated clusters to display stored in variable **ClusterLabel**"
   ]
  },
  {
   "cell_type": "code",
   "execution_count": 49,
   "metadata": {
    "collapsed": false
   },
   "outputs": [
    {
     "name": "stdout",
     "output_type": "stream",
     "text": [
      "Dimensions of file is 150 rows and 5 columns\n",
      "Centroid initializing done. Following are the initialized Centroids for Clustering::\n",
      "          0         1         2\n",
      "0  7.746965  6.155018  6.152586\n",
      "1  2.865018  2.599880  2.254762\n",
      "2  5.784885  1.704316  1.679093\n",
      "3  0.367636  0.220597  1.985142\n",
      "Kmeans Clusering is Done. Following are the labels:\n",
      "[ 0.  2.  1.  2.  2.  0.  0.  2.  1.  0.]\n"
     ]
    }
   ],
   "source": [
    "DataFrame = pd.read_csv('C:\\\\Users\\\\Ratan Singh\\\\Desktop\\\\iris.csv')\n",
    "\n",
    "#Shuffling the data\n",
    "order = np.random.permutation(DataFrame.shape[0])   # m\n",
    "DataFrame = DataFrame.iloc[order,:]\n",
    "\n",
    "print(\"Dimensions of file is \"+str(DataFrame.shape[0])+\" rows and \"+str(DataFrame.shape[1])+\" columns\" )\n",
    "\n",
    "K = 3\n",
    "Y = DataFrame.iloc[:,4]\n",
    "X = DataFrame.iloc[:,:].drop(\"Species\",1).T\n",
    "\n",
    "centroids = initCentroids(X,K)\n",
    "print(\"Centroid initializing done. Following are the initialized Centroids for Clustering::\")\n",
    "print(centroids)\n",
    "num_iter = 9\n",
    "\n",
    "for i in range(0,num_iter):\n",
    "    clusters = computeNearestCluster(X,centroids)\n",
    "    centroids = updateCentroid(X,clusters,K,'median')\n",
    "\n",
    "clusters = np.squeeze(clusters)\n",
    "print('Kmeans Clusering is Done. Following are the labels:')\n",
    "print(clusters[0:10])"
   ]
  },
  {
   "cell_type": "markdown",
   "metadata": {},
   "source": [
    "#### Result\n",
    "Let's analyze the plot of datapoints and centroid of the estimated clusters. We can see clearly three clusters and their corresponding centroid."
   ]
  },
  {
   "cell_type": "code",
   "execution_count": 52,
   "metadata": {
    "collapsed": false
   },
   "outputs": [],
   "source": [
    "import matplotlib.pyplot as plt\n",
    "\n",
    "clusterA = pd.DataFrame([np.array(X.iloc[:,x]) for x in range(0,len(clusters)) if clusters[x] == 0])\n",
    "clusterB = pd.DataFrame([np.array(X.iloc[:,x]) for x in range(0,len(clusters)) if clusters[x] == 1])\n",
    "clusterC = pd.DataFrame([np.array(X.iloc[:,x]) for x in range(0,len(clusters)) if clusters[x] == 2])\n",
    "\n",
    "xcol = 2\n",
    "ycol = 3\n",
    "\n",
    "plt.scatter(clusterA.iloc[:,xcol],clusterA.iloc[:,ycol],color = 'red')\n",
    "plt.scatter(clusterB.iloc[:,xcol],clusterB.iloc[:,ycol],color = 'blue')\n",
    "plt.scatter(clusterC.iloc[:,xcol],clusterC.iloc[:,ycol],color = 'green')\n",
    "plt.scatter(centroids.iloc[xcol,:],centroids.iloc[ycol,:],color = 'black')\n",
    "plt.show()"
   ]
  },
  {
   "cell_type": "code",
   "execution_count": 56,
   "metadata": {
    "collapsed": false
   },
   "outputs": [
    {
     "data": {
      "image/png": "[encoded data removed]",
      "text/plain": [
       "<IPython.core.display.Image object>"
      ]
     },
     "execution_count": 56,
     "metadata": {
      "image/png": {
       "height": 800,
       "width": 800
      }
     },
     "output_type": "execute_result"
    }
   ],
   "source": [
    "from IPython.display import Image\n",
    "Image(filename = 'C://Users//Ratan Singh//Desktop//Kmeans.png',width = 800, height = 800)"
   ]
  },
  {
   "cell_type": "code",
   "execution_count": null,
   "metadata": {
    "collapsed": true
   },
   "outputs": [],
   "source": []
  }
 ],
 "metadata": {
  "kernelspec": {
   "display_name": "Python 2",
   "language": "python",
   "name": "python2"
  },
  "language_info": {
   "codemirror_mode": {
    "name": "ipython",
    "version": 2
   },
   "file_extension": ".py",
   "mimetype": "text/x-python",
   "name": "python",
   "nbconvert_exporter": "python",
   "pygments_lexer": "ipython2",
   "version": "2.7.11"
  }
 },
 "nbformat": 4,
 "nbformat_minor": 0
}
